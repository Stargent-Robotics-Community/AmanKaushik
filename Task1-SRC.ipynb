{
 "cells": [
  {
   "cell_type": "code",
   "execution_count": 1,
   "id": "c1d83852",
   "metadata": {},
   "outputs": [
    {
     "name": "stdout",
     "output_type": "stream",
     "text": [
      "StartUp\n",
      "Moneyheist\n",
      "Falldown\n",
      "Elite\n"
     ]
    }
   ],
   "source": [
    "listmovie = [ 'StartUp','Moneyheist', 'Falldown', 'Elite']\n",
    "\n",
    "for i in listmovie:\n",
    "    print(i)"
   ]
  },
  {
   "cell_type": "code",
   "execution_count": 2,
   "id": "6e1fd105",
   "metadata": {},
   "outputs": [
    {
     "name": "stdout",
     "output_type": "stream",
     "text": [
      "Enter your 1st fav tv show or movie\n",
      "falldown\n",
      "Enter your 2nd fav tv show or movie\n",
      "avengers\n",
      "falldown\n",
      "avengers\n",
      "['StartUp', 'Moneyheist', 'Falldown', 'Elite', 'falldown', 'avengers']\n"
     ]
    }
   ],
   "source": [
    "listmovie = [ 'StartUp','Moneyheist', 'Falldown', 'Elite']\n",
    "print('Enter your 1st fav tv show or movie')\n",
    "movie1= input()\n",
    "print('Enter your 2nd fav tv show or movie')\n",
    "movie2= input()\n",
    "print(movie1)\n",
    "print (movie2)\n",
    "\n",
    "listmovie.append(movie1)\n",
    "listmovie.append(movie2)\n",
    "print(listmovie)"
   ]
  },
  {
   "cell_type": "code",
   "execution_count": 3,
   "id": "b5f08ddd",
   "metadata": {},
   "outputs": [
    {
     "name": "stdout",
     "output_type": "stream",
     "text": [
      "Enter stringmadam\n",
      "Palindrome\n"
     ]
    }
   ],
   "source": [
    "s = input(\"Enter string\")\n",
    "\n",
    "# x = print(s[::])\n",
    "y = (s[::-1])\n",
    "\n",
    "if s==y :\n",
    "    print(\"Palindrome\")\n",
    "else:\n",
    "    print(\"no\")"
   ]
  },
  {
   "cell_type": "code",
   "execution_count": 4,
   "id": "1bab993d",
   "metadata": {},
   "outputs": [
    {
     "name": "stdout",
     "output_type": "stream",
     "text": [
      "enter no of row5\n",
      "1\n",
      "12\n",
      "123\n",
      "1234\n",
      "12345\n"
     ]
    }
   ],
   "source": [
    "n = int(input(\"enter no of row\"))\n",
    "for i in range(1,n+1):\n",
    "    for j in range(1,i+1):\n",
    "        print(j,end=\"\")\n",
    "    print()"
   ]
  },
  {
   "cell_type": "code",
   "execution_count": 5,
   "id": "d722bdb6",
   "metadata": {},
   "outputs": [
    {
     "name": "stdout",
     "output_type": "stream",
     "text": [
      "15\n"
     ]
    }
   ],
   "source": [
    "list1 = [1,2,3,4,5]\n",
    "x = 0\n",
    "i=0\n",
    "while i<=4:\n",
    "    x = x + (list1[i])\n",
    "    i = i + 1\n",
    "    \n",
    "print(x)"
   ]
  },
  {
   "cell_type": "code",
   "execution_count": null,
   "id": "54dc4543",
   "metadata": {},
   "outputs": [],
   "source": []
  }
 ],
 "metadata": {
  "kernelspec": {
   "display_name": "Python 3",
   "language": "python",
   "name": "python3"
  },
  "language_info": {
   "codemirror_mode": {
    "name": "ipython",
    "version": 3
   },
   "file_extension": ".py",
   "mimetype": "text/x-python",
   "name": "python",
   "nbconvert_exporter": "python",
   "pygments_lexer": "ipython3",
   "version": "3.8.8"
  }
 },
 "nbformat": 4,
 "nbformat_minor": 5
}
